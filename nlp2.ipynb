{
  "nbformat": 4,
  "nbformat_minor": 0,
  "metadata": {
    "colab": {
      "provenance": [],
      "include_colab_link": true
    },
    "kernelspec": {
      "name": "python3",
      "display_name": "Python 3"
    },
    "language_info": {
      "name": "python"
    }
  },
  "cells": [
    {
      "cell_type": "markdown",
      "metadata": {
        "id": "view-in-github",
        "colab_type": "text"
      },
      "source": [
        "<a href=\"https://colab.research.google.com/github/MDSHAHID777/NLP/blob/main/nlp2.ipynb\" target=\"_parent\"><img src=\"https://colab.research.google.com/assets/colab-badge.svg\" alt=\"Open In Colab\"/></a>"
      ]
    },
    {
      "cell_type": "code",
      "execution_count": null,
      "metadata": {
        "colab": {
          "base_uri": "https://localhost:8080/"
        },
        "id": "R5pSjf_DKyfi",
        "outputId": "1ba66533-f962-4c3a-fbb9-ae328514275a"
      },
      "outputs": [
        {
          "output_type": "stream",
          "name": "stdout",
          "text": [
            "--- Found Phone Numbers ---\n",
            "1234567890\n",
            "+91 98765-43210\n",
            "\n",
            "========================================\n",
            "\n",
            "--- Cleaned Text ---\n",
            "Original: \"My phone number is 1234567890 and my email is test@domain.com\"\n",
            "Cleaned:  \"My phone number is and my email is\"\n",
            "\n",
            "Original: \"Visit https://example.com for more info!!!\"\n",
            "Cleaned:  \"Visit for more info\"\n",
            "\n",
            "Original: \"HELLO!!! This is SOOOOO exciting :))\"\n",
            "Cleaned:  \"HELLO This is SOOOOO exciting\"\n",
            "\n",
            "Original: \"Contact us at info@company.org or call +91 98765-43210\"\n",
            "Cleaned:  \"Contact us at or call\"\n",
            "\n",
            "Original: \"Python's regex is very useful!!!  #Coding #Fun\"\n",
            "Cleaned:  \"Pythons regex is very useful Coding Fun\"\n",
            "\n"
          ]
        }
      ],
      "source": [
        "import re\n",
        "\n",
        "# The list of sentences from your question\n",
        "texts = [\n",
        "    \"My phone number is 1234567890 and my email is test@domain.com\",\n",
        "    \"Visit https://example.com for more info!!!\",\n",
        "    \"HELLO!!! This is SOOOOO exciting :))\",\n",
        "    \"Contact us at info@company.org or call +91 98765-43210\",\n",
        "    \"Python's regex is very useful!!!  #Coding #Fun\"\n",
        "]\n",
        "\n",
        "## 1. Find Phone Numbers\n",
        "print(\"--- Found Phone Numbers ---\")\n",
        "\n",
        "# Regex to find different phone number formats present in the text\n",
        "phone_pattern = r'(?:\\+\\d{1,3}[-\\s]?)?\\d{10}|(?:\\+\\d{1,3}[-\\s]?)?\\d{5}[-\\s]?\\d{5}'\n",
        "found_phones = []\n",
        "\n",
        "# Loop through each text to find phone numbers\n",
        "for text in texts:\n",
        "    found_phones.extend(re.findall(phone_pattern, text))\n",
        "\n",
        "# Print the results\n",
        "if found_phones:\n",
        "    for phone in found_phones:\n",
        "        print(phone)\n",
        "else:\n",
        "    print(\"No phone numbers were found.\")\n",
        "\n",
        "print(\"\\n\" + \"=\"*40 + \"\\n\") # Separator for clarity\n",
        "\n",
        "## 2. Remove Phone Numbers, Emails, URLs, and Special Characters\n",
        "print(\"--- Cleaned Text ---\")\n",
        "\n",
        "cleaned_texts = []\n",
        "for text in texts:\n",
        "    # Make a copy to modify\n",
        "    clean_text = text\n",
        "\n",
        "    # Remove URLs (e.g., https://example.com)\n",
        "    clean_text = re.sub(r'https?://\\S+', '', clean_text)\n",
        "\n",
        "    # Remove emails (e.g., test@domain.com)\n",
        "    clean_text = re.sub(r'\\S+@\\S+\\.\\S+', '', clean_text)\n",
        "\n",
        "    # Remove phone numbers using the same pattern as above\n",
        "    clean_text = re.sub(phone_pattern, '', clean_text)\n",
        "\n",
        "    # Remove special characters (anything not a letter, number, or space)\n",
        "    clean_text = re.sub(r'[^a-zA-Z0-9\\s]', '', clean_text)\n",
        "\n",
        "    # Remove extra whitespace (like double spaces) that may result from removal\n",
        "    clean_text = ' '.join(clean_text.split())\n",
        "\n",
        "    cleaned_texts.append(clean_text)\n",
        "\n",
        "# Print the original vs. cleaned text for comparison\n",
        "for i in range(len(texts)):\n",
        "    print(f\"Original: \\\"{texts[i]}\\\"\")\n",
        "    print(f\"Cleaned:  \\\"{cleaned_texts[i]}\\\"\\n\")"
      ]
    }
  ]
}